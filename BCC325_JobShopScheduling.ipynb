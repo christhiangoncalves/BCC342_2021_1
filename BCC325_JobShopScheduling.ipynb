{
  "nbformat": 4,
  "nbformat_minor": 0,
  "metadata": {
    "colab": {
      "name": "BCC325_JobShopScheduling.ipynb",
      "provenance": [],
      "collapsed_sections": [],
      "authorship_tag": "ABX9TyNxzFE40tJyjP/X3GRIdRS6",
      "include_colab_link": true
    },
    "kernelspec": {
      "name": "python3",
      "display_name": "Python 3"
    }
  },
  "cells": [
    {
      "cell_type": "markdown",
      "metadata": {
        "id": "view-in-github",
        "colab_type": "text"
      },
      "source": [
        "<a href=\"https://colab.research.google.com/github/rcpsilva/BCC342_2021_1/blob/main/BCC325_JobShopScheduling.ipynb\" target=\"_parent\"><img src=\"https://colab.research.google.com/assets/colab-badge.svg\" alt=\"Open In Colab\"/></a>"
      ]
    },
    {
      "cell_type": "markdown",
      "metadata": {
        "id": "YpFN4wXl9xP4"
      },
      "source": [
        "# Install MIP"
      ]
    },
    {
      "cell_type": "code",
      "metadata": {
        "id": "YRjNWJUqvrRt",
        "colab": {
          "base_uri": "https://localhost:8080/"
        },
        "outputId": "9e96bf9b-167f-415f-deab-adeb696bb0e4"
      },
      "source": [
        "!pip install mip"
      ],
      "execution_count": null,
      "outputs": [
        {
          "output_type": "stream",
          "text": [
            "Requirement already satisfied: mip in /usr/local/lib/python3.6/dist-packages (1.13.0)\n",
            "Requirement already satisfied: cffi in /usr/local/lib/python3.6/dist-packages (from mip) (1.14.4)\n",
            "Requirement already satisfied: pycparser in /usr/local/lib/python3.6/dist-packages (from cffi->mip) (2.20)\n"
          ],
          "name": "stdout"
        }
      ]
    },
    {
      "cell_type": "markdown",
      "metadata": {
        "id": "fqNm3wBI90pV"
      },
      "source": [
        "# Jobshop scheduling\r\n",
        "\r\n",
        "j0: m2(2) -> m0(1) -> m1(2) \\\\\r\n",
        "j1: m1(1) -> m2(2) -> m0(2) \\\\\r\n",
        "j2: m2(1) -> m1(2) -> m0(1)"
      ]
    },
    {
      "cell_type": "code",
      "metadata": {
        "id": "r-QyxgqV90U4"
      },
      "source": [
        "from itertools import product\r\n",
        "from mip import Model, BINARY, MINIMIZE, INTEGER"
      ],
      "execution_count": null,
      "outputs": []
    },
    {
      "cell_type": "code",
      "metadata": {
        "id": "KQeMVuAYEBEr"
      },
      "source": [
        "n = 3 # Number of jobs\r\n",
        "m = 3 # Number of machines \r\n",
        "\r\n",
        "times = [[1,2,1],\r\n",
        "         [2,1,2],\r\n",
        "         [2,2,1]] # rows -> Machines, cols -> jobs\r\n",
        "\r\n",
        "machines = [[2,0,1],\r\n",
        "            [1,2,0],\r\n",
        "            [2,1,0]] # rows -> jobs, cols-> operações\r\n",
        "\r\n",
        "M = sum(times[i][j] for i in range(m) for j in range(n))"
      ],
      "execution_count": null,
      "outputs": []
    },
    {
      "cell_type": "code",
      "metadata": {
        "id": "592SCaTxGNBY"
      },
      "source": [
        "model = Model('JSS',sense=MINIMIZE)"
      ],
      "execution_count": null,
      "outputs": []
    },
    {
      "cell_type": "code",
      "metadata": {
        "id": "Bu7XLdAuHZIl"
      },
      "source": [
        "c = model.add_var(name='C', lb=0)\r\n",
        "x = [[model.add_var(name='x{}{}'.format(i,j), lb=0) for j in range(n)] for i in range(m)]\r\n",
        "y = [[[model.add_var(name='y{}{}{}'.format(i,j,k),var_type=BINARY) for k in range(n)] for j in range(n)] for i in range(m)]"
      ],
      "execution_count": null,
      "outputs": []
    },
    {
      "cell_type": "code",
      "metadata": {
        "id": "F0Hv8EgyI48H"
      },
      "source": [
        "model.objective = c"
      ],
      "execution_count": null,
      "outputs": []
    },
    {
      "cell_type": "code",
      "metadata": {
        "id": "H5nJ9nKkJJ7G"
      },
      "source": [
        "for (o,j) in product(range(1,m),range(n)):\r\n",
        "  model += x[machines[j][o]][j] >= x[machines[j][o-1]][j] + times[machines[j][o-1]][j]"
      ],
      "execution_count": null,
      "outputs": []
    },
    {
      "cell_type": "code",
      "metadata": {
        "id": "4iyzscwxK0dC"
      },
      "source": [
        "for (j,k) in product(range(n),range(n)):\r\n",
        "  if k != j:\r\n",
        "    for i in range(m):\r\n",
        "      model += x[i][j] >= x[i][k] + times[i][k] - M*y[i][j][k]\r\n",
        "      model += x[i][k] >= x[i][j] + times[i][j] - M*(1 - y[i][j][k])"
      ],
      "execution_count": null,
      "outputs": []
    },
    {
      "cell_type": "code",
      "metadata": {
        "id": "X2-f37dhLpiv"
      },
      "source": [
        "for j in range(n):\r\n",
        "  model += c >= x[machines[j][m - 1]][j] + times[machines[j][m - 1]][j]"
      ],
      "execution_count": null,
      "outputs": []
    },
    {
      "cell_type": "code",
      "metadata": {
        "colab": {
          "base_uri": "https://localhost:8080/"
        },
        "id": "xZwf8sQKMNbH",
        "outputId": "6651af2a-d839-445c-9875-55b10819e435"
      },
      "source": [
        "model.optimize()"
      ],
      "execution_count": null,
      "outputs": [
        {
          "output_type": "execute_result",
          "data": {
            "text/plain": [
              "<OptimizationStatus.OPTIMAL: 0>"
            ]
          },
          "metadata": {
            "tags": []
          },
          "execution_count": 10
        }
      ]
    },
    {
      "cell_type": "code",
      "metadata": {
        "colab": {
          "base_uri": "https://localhost:8080/"
        },
        "id": "EqSELq4DMaqP",
        "outputId": "5a61053d-78ba-41f5-dcb5-7931963ba7e1"
      },
      "source": [
        "print('Makespan: ', c.x)\r\n",
        "for (j,i) in product(range(n),range(m)):\r\n",
        "  print('Job {} starts on machine {} at time {}:'.format(j,i,x[i][j].x))"
      ],
      "execution_count": null,
      "outputs": [
        {
          "output_type": "stream",
          "text": [
            "Makespan:  7.0\n",
            "Job 0 starts on machine 0 at time 3.0:\n",
            "Job 0 starts on machine 1 at time 4.0:\n",
            "Job 0 starts on machine 2 at time 1.0:\n",
            "Job 1 starts on machine 0 at time 5.0:\n",
            "Job 1 starts on machine 1 at time 0.0:\n",
            "Job 1 starts on machine 2 at time 3.0:\n",
            "Job 2 starts on machine 0 at time 4.0:\n",
            "Job 2 starts on machine 1 at time 1.0:\n",
            "Job 2 starts on machine 2 at time 0.0:\n"
          ],
          "name": "stdout"
        }
      ]
    },
    {
      "cell_type": "markdown",
      "metadata": {
        "id": "EpMUiM3laTis"
      },
      "source": [
        "# Regression"
      ]
    },
    {
      "cell_type": "code",
      "metadata": {
        "id": "cusTuWz6M9pp"
      },
      "source": [
        "import numpy as np\r\n",
        "import matplotlib.pyplot as plt\r\n",
        "import scipy.optimize as sopt"
      ],
      "execution_count": null,
      "outputs": []
    },
    {
      "cell_type": "code",
      "metadata": {
        "id": "ZjCxNmQOVzgu"
      },
      "source": [
        "X = np.random.rand(100,1)\r\n",
        "Px = 4 + 3*X + np.random.randn(100,1)*0.5"
      ],
      "execution_count": null,
      "outputs": []
    },
    {
      "cell_type": "code",
      "metadata": {
        "colab": {
          "base_uri": "https://localhost:8080/",
          "height": 282
        },
        "id": "p4tK8UFjWEP2",
        "outputId": "1ca86e53-2079-40fd-9174-a447aab8c95b"
      },
      "source": [
        "plt.plot(X,Px,'o')"
      ],
      "execution_count": null,
      "outputs": [
        {
          "output_type": "execute_result",
          "data": {
            "text/plain": [
              "[<matplotlib.lines.Line2D at 0x7f604f3f74e0>]"
            ]
          },
          "metadata": {
            "tags": []
          },
          "execution_count": 14
        },
        {
          "output_type": "display_data",
          "data": {
            "image/png": "[encoded data removed]",
            "text/plain": [
              "<Figure size 432x288 with 1 Axes>"
            ]
          },
          "metadata": {
            "tags": [],
            "needs_background": "light"
          }
        }
      ]
    },
    {
      "cell_type": "code",
      "metadata": {
        "colab": {
          "base_uri": "https://localhost:8080/",
          "height": 282
        },
        "id": "9wEbP2RhWH9n",
        "outputId": "b9e5ff6f-1439-41c4-ec23-f100278d172a"
      },
      "source": [
        "w = [10,10] #-> y = 4 + 3x\r\n",
        "\r\n",
        "fx = w[0] + w[1]*X   \r\n",
        "\r\n",
        "plt.plot(X,Px,'bo')\r\n",
        "plt.plot(X,fx,'ro')\r\n"
      ],
      "execution_count": null,
      "outputs": [
        {
          "output_type": "execute_result",
          "data": {
            "text/plain": [
              "[<matplotlib.lines.Line2D at 0x7f604f422198>]"
            ]
          },
          "metadata": {
            "tags": []
          },
          "execution_count": 15
        },
        {
          "output_type": "display_data",
          "data": {
            "image/png": "[encoded data removed]",
            "text/plain": [
              "<Figure size 432x288 with 1 Axes>"
            ]
          },
          "metadata": {
            "tags": [],
            "needs_background": "light"
          }
        }
      ]
    },
    {
      "cell_type": "code",
      "metadata": {
        "colab": {
          "base_uri": "https://localhost:8080/"
        },
        "id": "Y8hvEX1BWxKO",
        "outputId": "c9d383e2-71c7-4ee6-a8fe-8eebf2f53720"
      },
      "source": [
        "np.sum((fx-Px)**2)"
      ],
      "execution_count": null,
      "outputs": [
        {
          "output_type": "execute_result",
          "data": {
            "text/plain": [
              "9682.093304799953"
            ]
          },
          "metadata": {
            "tags": []
          },
          "execution_count": 16
        }
      ]
    },
    {
      "cell_type": "code",
      "metadata": {
        "id": "Tv3-vDcmXUAf"
      },
      "source": [
        "def fobj(w):\r\n",
        "  fx = w[0] + w[1]*X\r\n",
        "  return np.sum((fx-Px)**2)"
      ],
      "execution_count": null,
      "outputs": []
    },
    {
      "cell_type": "code",
      "metadata": {
        "id": "dUD4ZOLkYFf9"
      },
      "source": [
        "res = sopt.minimize(fobj,x0=[10,10], method='Powell')"
      ],
      "execution_count": null,
      "outputs": []
    },
    {
      "cell_type": "code",
      "metadata": {
        "colab": {
          "base_uri": "https://localhost:8080/"
        },
        "id": "4LS3-S0fYd7Z",
        "outputId": "3bf4ce9e-be2b-4cdd-aabf-755b4d183e69"
      },
      "source": [
        "res"
      ],
      "execution_count": null,
      "outputs": [
        {
          "output_type": "execute_result",
          "data": {
            "text/plain": [
              "   direc: array([[ 0.        ,  1.        ],\n",
              "       [ 2.9507894 , -4.53685306]])\n",
              "     fun: 22.045959800242706\n",
              " message: 'Optimization terminated successfully.'\n",
              "    nfev: 100\n",
              "     nit: 3\n",
              "  status: 0\n",
              " success: True\n",
              "       x: array([4.09938376, 2.72407609])"
            ]
          },
          "metadata": {
            "tags": []
          },
          "execution_count": 19
        }
      ]
    },
    {
      "cell_type": "code",
      "metadata": {
        "colab": {
          "base_uri": "https://localhost:8080/",
          "height": 282
        },
        "id": "CU0bMP_wYeiH",
        "outputId": "df9e90ae-8c76-4ddd-a2a5-3fd7ee986952"
      },
      "source": [
        "fx =res.x[0] + res.x[1]*X   \r\n",
        "\r\n",
        "plt.plot(X,Px,'bo')\r\n",
        "plt.plot(X,fx,'ro')"
      ],
      "execution_count": null,
      "outputs": [
        {
          "output_type": "execute_result",
          "data": {
            "text/plain": [
              "[<matplotlib.lines.Line2D at 0x7f604ee87470>]"
            ]
          },
          "metadata": {
            "tags": []
          },
          "execution_count": 20
        },
        {
          "output_type": "display_data",
          "data": {
            "image/png": "[encoded data removed]",
            "text/plain": [
              "<Figure size 432x288 with 1 Axes>"
            ]
          },
          "metadata": {
            "tags": [],
            "needs_background": "light"
          }
        }
      ]
    },
    {
      "cell_type": "code",
      "metadata": {
        "id": "3MlbD5A1ZF__"
      },
      "source": [
        ""
      ],
      "execution_count": null,
      "outputs": []
    }
  ]
}