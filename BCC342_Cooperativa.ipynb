{
  "nbformat": 4,
  "nbformat_minor": 0,
  "metadata": {
    "colab": {
      "name": "BCC342_Cooperativa.ipynb",
      "provenance": [],
      "collapsed_sections": [],
      "authorship_tag": "ABX9TyPbaZHmO3QLf/dJ6wlirxX1",
      "include_colab_link": true
    },
    "kernelspec": {
      "name": "python3",
      "display_name": "Python 3"
    }
  },
  "cells": [
    {
      "cell_type": "markdown",
      "metadata": {
        "id": "view-in-github",
        "colab_type": "text"
      },
      "source": [
        "<a href=\"https://colab.research.google.com/github/rcpsilva/BCC342_2021_1/blob/main/BCC342_Cooperativa.ipynb\" target=\"_parent\"><img src=\"https://colab.research.google.com/assets/colab-badge.svg\" alt=\"Open In Colab\"/></a>"
      ]
    },
    {
      "cell_type": "code",
      "metadata": {
        "colab": {
          "base_uri": "https://localhost:8080/"
        },
        "id": "IXc-Jg-mPIFi",
        "outputId": "8f4ebe30-5534-4d25-e54f-e44f4687919d"
      },
      "source": [
        "!pip install mip"
      ],
      "execution_count": 1,
      "outputs": [
        {
          "output_type": "stream",
          "text": [
            "Requirement already satisfied: mip in /usr/local/lib/python3.6/dist-packages (1.13.0)\n",
            "Requirement already satisfied: cffi in /usr/local/lib/python3.6/dist-packages (from mip) (1.14.4)\n",
            "Requirement already satisfied: pycparser in /usr/local/lib/python3.6/dist-packages (from cffi->mip) (2.20)\n"
          ],
          "name": "stdout"
        }
      ]
    },
    {
      "cell_type": "code",
      "metadata": {
        "id": "lmOq7IV3PPzT"
      },
      "source": [
        "from mip import Model, xsum, INTEGER,CONTINUOUS, MAXIMIZE, MINIMIZE"
      ],
      "execution_count": 2,
      "outputs": []
    },
    {
      "cell_type": "code",
      "metadata": {
        "id": "qVQNXXcRNhXa"
      },
      "source": [
        "#         Área & Agua & Lucro\r\n",
        "cultura = [[660,5.5,5000], #milho\r\n",
        "           [880,4,4000], #Arroz\r\n",
        "           [400,3.5,1800]] # Feijão\r\n",
        "\r\n",
        "fazenda = [[400,1800], # F0\r\n",
        "           [650,2200], # F1\r\n",
        "           [350,950]] # F2"
      ],
      "execution_count": 3,
      "outputs": []
    },
    {
      "cell_type": "code",
      "metadata": {
        "id": "ydd_Hy0fN5gZ"
      },
      "source": [
        "m = Model(sense=MAXIMIZE)\r\n",
        "\r\n",
        "# x_ij = área que na fazenda i será destinada à cultura j\r\n",
        "x = [[m.add_var(lb=0) for j in range(len(cultura))] for i in range(len(fazenda))]"
      ],
      "execution_count": 4,
      "outputs": []
    },
    {
      "cell_type": "code",
      "metadata": {
        "id": "5rct2ZFtP7s0"
      },
      "source": [
        "m.objective = xsum(cultura[i][2]*x[j][i] for i in range(len(cultura)) for j in range(len(fazenda)))"
      ],
      "execution_count": 5,
      "outputs": []
    },
    {
      "cell_type": "code",
      "metadata": {
        "id": "QLLeVHQvSYEV"
      },
      "source": [
        "for i in range(len(fazenda)):\r\n",
        "  m += xsum(x[i][j] for j in range(len(cultura))) <= fazenda[i][0]\r\n",
        "  m += xsum(x[i][j]*cultura[j][1] for j in range(len(cultura))) <= fazenda[i][1]\r\n",
        "\r\n",
        "for i in range(len(cultura)):\r\n",
        "  m+= xsum(x[j][i] for j in range(len(fazenda))) <= cultura[i][0]"
      ],
      "execution_count": 6,
      "outputs": []
    },
    {
      "cell_type": "code",
      "metadata": {
        "id": "nvO8HUAAUQgq"
      },
      "source": [
        "m += xsum(x[0][i] for i in range(len(cultura)))/fazenda[0][0] == xsum(x[1][i] for i in range(len(cultura)))/fazenda[1][0]\r\n",
        "m += xsum(x[1][i] for i in range(len(cultura)))/fazenda[1][0] == xsum(x[2][i] for i in range(len(cultura)))/fazenda[2][0]"
      ],
      "execution_count": 7,
      "outputs": []
    },
    {
      "cell_type": "code",
      "metadata": {
        "colab": {
          "base_uri": "https://localhost:8080/"
        },
        "id": "zg92ATp2VAkZ",
        "outputId": "789b8bee-0fd1-4dc3-d2cb-13c6f3ecafe0"
      },
      "source": [
        "m.optimize()"
      ],
      "execution_count": 8,
      "outputs": [
        {
          "output_type": "execute_result",
          "data": {
            "text/plain": [
              "<OptimizationStatus.OPTIMAL: 0>"
            ]
          },
          "metadata": {
            "tags": []
          },
          "execution_count": 8
        }
      ]
    },
    {
      "cell_type": "code",
      "metadata": {
        "colab": {
          "base_uri": "https://localhost:8080/"
        },
        "id": "r1POIKGlVYMv",
        "outputId": "30a4a9eb-2e3a-4c1b-e94e-838f28eba61d"
      },
      "source": [
        "for i in range(len(fazenda)):\r\n",
        "  print([x[i][j].x for j in range(len(cultura))])\r\n",
        "  "
      ],
      "execution_count": 11,
      "outputs": [
        {
          "output_type": "stream",
          "text": [
            "[271.42857142857144, 0.0, 0.0]\n",
            "[290.4761904761904, 150.59523809523816, 0.0]\n",
            "[0.0, 237.5, 0.0]\n"
          ],
          "name": "stdout"
        }
      ]
    }
  ]
}