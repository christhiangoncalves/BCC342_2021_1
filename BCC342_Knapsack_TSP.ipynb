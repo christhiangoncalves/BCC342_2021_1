{
  "nbformat": 4,
  "nbformat_minor": 0,
  "metadata": {
    "colab": {
      "name": "BCC342_Knapsack_TSP.ipynb",
      "provenance": [],
      "collapsed_sections": [],
      "authorship_tag": "ABX9TyPF8gKlbVEHuYIEpIMXkdQG",
      "include_colab_link": true
    },
    "kernelspec": {
      "name": "python3",
      "display_name": "Python 3"
    }
  },
  "cells": [
    {
      "cell_type": "markdown",
      "metadata": {
        "id": "view-in-github",
        "colab_type": "text"
      },
      "source": [
        "<a href=\"https://colab.research.google.com/github/rcpsilva/BCC342_2021_1/blob/main/BCC342_Knapsack_TSP.ipynb\" target=\"_parent\"><img src=\"https://colab.research.google.com/assets/colab-badge.svg\" alt=\"Open In Colab\"/></a>"
      ]
    },
    {
      "cell_type": "code",
      "metadata": {
        "colab": {
          "base_uri": "https://localhost:8080/"
        },
        "id": "AcLtISSCCvvZ",
        "outputId": "96ed87be-32e4-4bdc-af72-56d5a1df4de0"
      },
      "source": [
        "!pip install mip"
      ],
      "execution_count": null,
      "outputs": [
        {
          "output_type": "stream",
          "text": [
            "Requirement already satisfied: mip in /usr/local/lib/python3.6/dist-packages (1.13.0)\n",
            "Requirement already satisfied: cffi in /usr/local/lib/python3.6/dist-packages (from mip) (1.14.4)\n",
            "Requirement already satisfied: pycparser in /usr/local/lib/python3.6/dist-packages (from cffi->mip) (2.20)\n"
          ],
          "name": "stdout"
        }
      ]
    },
    {
      "cell_type": "code",
      "metadata": {
        "id": "pN_fPeILC5Zt"
      },
      "source": [
        "from mip import Model, xsum, MINIMIZE, MAXIMIZE, BINARY, INTEGER"
      ],
      "execution_count": null,
      "outputs": []
    },
    {
      "cell_type": "markdown",
      "metadata": {
        "id": "Y2K4Rbhm__sA"
      },
      "source": [
        "## [0,1] Knapsack"
      ]
    },
    {
      "cell_type": "code",
      "metadata": {
        "id": "Ryvoj0mF_2uA"
      },
      "source": [
        "p = [10,13,18,31,7,15]\r\n",
        "l = [11,15,20,35,10,33]\r\n",
        "\r\n",
        "c = 47\r\n",
        "n_itens = len(p)\r\n",
        "\r\n",
        "m = Model('Knapsack',sense=MAXIMIZE)"
      ],
      "execution_count": null,
      "outputs": []
    },
    {
      "cell_type": "code",
      "metadata": {
        "id": "NAd3k0wPE5RQ"
      },
      "source": [
        "x = [m.add_var(var_type=BINARY) for i in range(n_itens)]"
      ],
      "execution_count": null,
      "outputs": []
    },
    {
      "cell_type": "code",
      "metadata": {
        "id": "wXfjiTkAE6jX"
      },
      "source": [
        "m.objective = xsum(l[i]*x[i] for i in range(n_itens))"
      ],
      "execution_count": null,
      "outputs": []
    },
    {
      "cell_type": "code",
      "metadata": {
        "id": "RKoX_BySFHd_"
      },
      "source": [
        "m += xsum(p[i]*x[i] for i in range(n_itens)) <= c"
      ],
      "execution_count": null,
      "outputs": []
    },
    {
      "cell_type": "code",
      "metadata": {
        "colab": {
          "base_uri": "https://localhost:8080/"
        },
        "id": "sjRGZlwlFX7t",
        "outputId": "0491a70a-5f10-4e50-c242-f52f9b8b4f44"
      },
      "source": [
        "m.optimize()"
      ],
      "execution_count": null,
      "outputs": [
        {
          "output_type": "execute_result",
          "data": {
            "text/plain": [
              "<OptimizationStatus.OPTIMAL: 0>"
            ]
          },
          "metadata": {
            "tags": []
          },
          "execution_count": 7
        }
      ]
    },
    {
      "cell_type": "code",
      "metadata": {
        "colab": {
          "base_uri": "https://localhost:8080/"
        },
        "id": "dK2MJmYkFdBv",
        "outputId": "63009fc1-3915-4adc-d2f4-7965b79c773c"
      },
      "source": [
        "print([x[i].x for i in range(n_itens)])"
      ],
      "execution_count": null,
      "outputs": [
        {
          "output_type": "stream",
          "text": [
            "[1.0, 1.0, 0.0, 0.0, 1.0, 1.0]\n"
          ],
          "name": "stdout"
        }
      ]
    },
    {
      "cell_type": "markdown",
      "metadata": {
        "id": "hhOYX4imAHiR"
      },
      "source": [
        "## Traveling Salesperson Problem (TSP)"
      ]
    },
    {
      "cell_type": "code",
      "metadata": {
        "id": "UdjMWunrAMD8"
      },
      "source": [
        "# names of places to visit\r\n",
        "places = ['Antwerp', 'Bruges', 'C-Mine', 'Dinant', 'Ghent',\r\n",
        "          'Grand-Place de Bruxelles', 'Hasselt', 'Leuven',\r\n",
        "          'Mechelen', 'Mons', 'Montagne de Bueren', 'Namur',\r\n",
        "          'Remouchamps', 'Waterloo']\r\n",
        "\r\n",
        "c = [[0, 83, 81, 113, 52, 42, 73, 44, 23, 91, 105, 90, 124, 57],\r\n",
        "[83, 0, 161, 160, 39, 89, 151, 110, 90, 99, 177, 143, 193, 100],\r\n",
        "[81, 161, 0, 90, 125, 82, 13, 57, 71, 123, 38, 72, 59, 82],\r\n",
        "[113, 160, 90, 0, 123, 77, 81, 71, 91, 72, 64, 24, 62, 63],\r\n",
        "[52, 39, 125, 123, 0, 51, 114, 72, 54, 69, 139, 105, 155, 62],\r\n",
        "[42, 89, 82, 77, 51, 0, 70, 25, 22, 52, 90, 56, 105, 16],\r\n",
        "[73, 151, 13, 81, 114, 70, 0, 45, 61, 111, 36, 61, 57, 70],\r\n",
        "[44, 110, 57, 71, 72, 25, 45, 0, 23, 71, 67, 48, 85, 29],\r\n",
        "[23, 90, 71, 91, 54, 22, 61, 23, 0, 74, 89, 69, 107, 36],\r\n",
        "[91, 99, 123, 72, 69, 52, 111, 71, 74, 0, 117, 65, 125, 43],\r\n",
        "[105, 177, 38, 64, 139, 90, 36, 67, 89, 117, 0, 54, 22, 84],\r\n",
        "[90, 143, 72, 24, 105, 56, 61, 48, 69, 65, 54, 0, 60, 44],\r\n",
        "[124, 193, 59, 62, 155, 105, 57, 85, 107, 125, 22, 60, 0, 97],\r\n",
        "[57, 100, 82, 63, 62, 16, 70, 29, 36, 43, 84, 44, 97, 0]]\r\n",
        "\r\n",
        "n = len(places)\r\n",
        "V = set(range(len(places)))"
      ],
      "execution_count": null,
      "outputs": []
    },
    {
      "cell_type": "code",
      "metadata": {
        "id": "xzoiF8fvSexa"
      },
      "source": [
        "model = Model('TSP', sense=MINIMIZE)"
      ],
      "execution_count": null,
      "outputs": []
    },
    {
      "cell_type": "code",
      "metadata": {
        "id": "fvegXS8LStPN"
      },
      "source": [
        "x = [[model.add_var(var_type=BINARY) for j in V] for i in V]"
      ],
      "execution_count": null,
      "outputs": []
    },
    {
      "cell_type": "code",
      "metadata": {
        "id": "qb2czDNHTMWL"
      },
      "source": [
        "y = [model.add_var(var_type=INTEGER,ub=n-1) for i in V]"
      ],
      "execution_count": null,
      "outputs": []
    },
    {
      "cell_type": "code",
      "metadata": {
        "id": "SYkvZXGlTWOq"
      },
      "source": [
        "model.objective = xsum(c[i][j]*x[i][j] for i in V for j in V)"
      ],
      "execution_count": null,
      "outputs": []
    },
    {
      "cell_type": "code",
      "metadata": {
        "id": "CiMcRU8ATpP-"
      },
      "source": [
        "from itertools import product\r\n",
        "\r\n",
        "# sai de uma cidade uma única vez\r\n",
        "for i in V:\r\n",
        "  model += xsum(x[i][j] for j in V-{i}) == 1\r\n",
        "\r\n",
        "# chaga a uma cidade uma única vez\r\n",
        "for j in V:\r\n",
        "  model += xsum(x[i][j] for i in V-{j}) == 1\r\n",
        "\r\n",
        "# eliminição se sub rota\r\n",
        "for (i,j) in product(V-{0},V-{0}):\r\n",
        "  if i != j:\r\n",
        "    model += y[i] + 1 <= y[j] + n*(1-x[i][j])\r\n"
      ],
      "execution_count": null,
      "outputs": []
    },
    {
      "cell_type": "code",
      "metadata": {
        "colab": {
          "base_uri": "https://localhost:8080/"
        },
        "id": "e55C9IWEUx0I",
        "outputId": "37c632ff-e383-4cea-df0b-48112e881de0"
      },
      "source": [
        "model.optimize()"
      ],
      "execution_count": null,
      "outputs": [
        {
          "output_type": "execute_result",
          "data": {
            "text/plain": [
              "<OptimizationStatus.OPTIMAL: 0>"
            ]
          },
          "metadata": {
            "tags": []
          },
          "execution_count": 15
        }
      ]
    },
    {
      "cell_type": "code",
      "metadata": {
        "colab": {
          "base_uri": "https://localhost:8080/"
        },
        "id": "xm8N8zmMV0JM",
        "outputId": "480c3e41-e19f-48f9-fe8a-e10553b36972"
      },
      "source": [
        "for i in V:\r\n",
        "  s = ''\r\n",
        "  for j in V:\r\n",
        "    s = s + '  ' + str(x[i][j].x)\r\n",
        "  print(s)\r\n"
      ],
      "execution_count": null,
      "outputs": [
        {
          "output_type": "stream",
          "text": [
            "  0.0  0.0  0.0  0.0  0.0  0.0  0.0  0.0  1.0  0.0  0.0  0.0  0.0  0.0\n",
            "  1.0  0.0  0.0  0.0  0.0  0.0  0.0  0.0  0.0  0.0  0.0  0.0  0.0  0.0\n",
            "  0.0  0.0  0.0  0.0  0.0  0.0  0.0  0.0  0.0  0.0  1.0  0.0  0.0  0.0\n",
            "  0.0  0.0  0.0  0.0  0.0  0.0  0.0  0.0  0.0  0.0  0.0  1.0  0.0  0.0\n",
            "  0.0  1.0  0.0  0.0  0.0  0.0  0.0  0.0  0.0  0.0  0.0  0.0  0.0  0.0\n",
            "  0.0  0.0  0.0  0.0  1.0  0.0  0.0  0.0  0.0  0.0  0.0  0.0  0.0  0.0\n",
            "  0.0  0.0  1.0  0.0  0.0  0.0  0.0  0.0  0.0  0.0  0.0  0.0  0.0  0.0\n",
            "  0.0  0.0  0.0  0.0  0.0  0.0  1.0  0.0  0.0  0.0  0.0  0.0  0.0  0.0\n",
            "  0.0  0.0  0.0  0.0  0.0  0.0  0.0  1.0  0.0  0.0  0.0  0.0  0.0  0.0\n",
            "  0.0  0.0  0.0  0.0  0.0  0.0  0.0  0.0  0.0  0.0  0.0  0.0  0.0  1.0\n",
            "  0.0  0.0  0.0  0.0  0.0  0.0  0.0  0.0  0.0  0.0  0.0  0.0  1.0  0.0\n",
            "  0.0  0.0  0.0  0.0  0.0  0.0  0.0  0.0  0.0  1.0  0.0  0.0  0.0  0.0\n",
            "  0.0  0.0  0.0  1.0  0.0  0.0  0.0  0.0  0.0  0.0  0.0  0.0  0.0  0.0\n",
            "  0.0  0.0  0.0  0.0  0.0  1.0  0.0  0.0  0.0  0.0  0.0  0.0  0.0  0.0\n"
          ],
          "name": "stdout"
        }
      ]
    },
    {
      "cell_type": "code",
      "metadata": {
        "id": "wM2RuhnxWAte"
      },
      "source": [
        ""
      ],
      "execution_count": null,
      "outputs": []
    }
  ]
}